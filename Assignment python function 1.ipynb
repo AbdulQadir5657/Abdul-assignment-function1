{
 "cells": [
  {
   "cell_type": "code",
   "execution_count": 2,
   "id": "fd0bfb81",
   "metadata": {},
   "outputs": [
    {
     "name": "stdout",
     "output_type": "stream",
     "text": [
      "8\n"
     ]
    }
   ],
   "source": [
    "# Question 1\n",
    "1. In Python, what is the difference between a built-in function and a user-defined function?\n",
    "   Provide an example of each.\n",
    "    \n",
    "    A built-in function is a function that is included in Python by default. These functions\n",
    "    are always available and can be used without the need for any import statements. \n",
    "    Examples of built-in functions in Python include print(), len(), and input().\n",
    "\n",
    "    A user-defined function is a function that is created by the user. These functions are\n",
    "    defined using the def keyword and can be called by name later in the program. Here’s an \n",
    "    example of a user-defined function:\n",
    "        \n",
    "def add_numbers(x, y):\n",
    "    return x + y\n",
    "\n",
    "result = add_numbers(5, 3)\n",
    "print(result)\n",
    " \n",
    "    In this example, we define a function called add_numbers() that takes two arguments (x and y)\n",
    "    and returns their sum. We then call this function with the arguments 5 and 3, which returns 8.\n",
    "    We store this result in a variable called result and print it to the console."
   ]
  },
  {
   "cell_type": "code",
   "execution_count": 4,
   "id": "04a8ee03",
   "metadata": {},
   "outputs": [
    {
     "name": "stdout",
     "output_type": "stream",
     "text": [
      "Hello, John!\n",
      "Hello, John!\n"
     ]
    }
   ],
   "source": [
    "# Question 2\n",
    "2. How can you pass arguments to a function in Python? Explain the difference between positional\n",
    "   arguments and keyword arguments.\n",
    "    \n",
    "    We can pass arguments to a function in Python by including them in the parentheses after \n",
    "    the function name. There are two types of arguments you can pass to a function: \n",
    "    positional arguments and keyword arguments.\n",
    "\n",
    "    Positional arguments are passed to a function in the order that they are defined in the \n",
    "    function’s parameter list.\n",
    "    For example:\n",
    "    \n",
    "    \n",
    "def greet(name, message):\n",
    "    print(f\"{message}, {name}!\")\n",
    "\n",
    "greet(\"John\", \"Hello\")\n",
    "\n",
    "\n",
    "    Keyword arguments are passed to a function using their names. This allows you to pass\n",
    "    arguments in any order and also provides more clarity about what each argument represents.\n",
    "    For example:\n",
    "    \n",
    "    \n",
    "def greet(name, message):\n",
    "    print(f\"{message}, {name}!\")\n",
    "\n",
    "greet(message=\"Hello\", name=\"John\")\n",
    "\n"
   ]
  },
  {
   "cell_type": "code",
   "execution_count": 9,
   "id": "a581c2b6",
   "metadata": {},
   "outputs": [
    {
     "name": "stdout",
     "output_type": "stream",
     "text": [
      "B\n"
     ]
    }
   ],
   "source": [
    "# Question 3\n",
    "3. What is the purpose of the return statement in a function? Can a function have multiple return\n",
    "   statements? Explain with an example.\n",
    "    \n",
    "    The return statement in a function is used to return a value from the function to the \n",
    "    calling code. When a return statement is executed, the function stops executing and control\n",
    "    is returned to the calling code. The value that is returned can be used in the calling code\n",
    "    for further processing.\n",
    "\n",
    "    A function can have multiple return statements. When a return statement is executed,\n",
    "    the function stops executing and control is returned to the calling code. This means that \n",
    "    any code after a return statement will not be executed.\n",
    "    Here’s an example:\n",
    "    \n",
    "def get_grade(score):\n",
    "    if score >= 90:\n",
    "        return \"A\"\n",
    "    elif score >= 80:\n",
    "        return \"B\"\n",
    "    elif score >= 70:\n",
    "        return \"C\"\n",
    "    else:\n",
    "        return \"F\"\n",
    "\n",
    "grade = get_grade(85)\n",
    "print(grade)\n"
   ]
  },
  {
   "cell_type": "code",
   "execution_count": 11,
   "id": "0c2353d0",
   "metadata": {},
   "outputs": [
    {
     "name": "stdout",
     "output_type": "stream",
     "text": [
      "8\n",
      "[1, 4, 9, 16, 25]\n"
     ]
    }
   ],
   "source": [
    "# Question 4\n",
    "4. What are lambda functions in Python? How are they different from regular functions? Provide an\n",
    "   example where a lambda function can be useful.\n",
    "    \n",
    "    A lambda function is a small anonymous function that can have any number of arguments,\n",
    "    but can only have one expression. They are defined using the lambda keyword and are often\n",
    "    used as a shortcut for simple functions that are only used once.\n",
    "\n",
    "    Here’s an example of a lambda function:\n",
    "    \n",
    "add_numbers = lambda x, y: x + y\n",
    "\n",
    "result = add_numbers(5, 3)\n",
    "print(result)\n",
    "\n",
    "     In this example, we define a lambda function called add_numbers() that takes two arguments\n",
    "    (x and y) and returns their sum. We then call this function with the arguments 5 and 3, which\n",
    "    returns 8. We store this result in a variable called result and print it to the console.\n",
    "\n",
    "    Lambda functions are different from regular functions in that they are anonymous and can only\n",
    "    have one expression. They are often used as a shortcut for simple functions that are only used once.\n",
    "\n",
    "    Lambda functions can be useful in situations where you need to pass a function as an argument to\n",
    "    another function. For example, the built-in map() function in Python takes a function and applies\n",
    "    it to each element of an iterable. \n",
    "    Here’s an example:\n",
    "\n",
    "my_list = [1, 2, 3, 4, 5]\n",
    "\n",
    "squared = list(map(lambda x: x**2, my_list))\n",
    "\n",
    "print(squared)\n",
    "\n"
   ]
  },
  {
   "cell_type": "code",
   "execution_count": 13,
   "id": "3c5069ba",
   "metadata": {},
   "outputs": [
    {
     "name": "stdout",
     "output_type": "stream",
     "text": [
      "5\n",
      "5\n"
     ]
    }
   ],
   "source": [
    "# Question 5\n",
    "5. How does the concept of \"scope\" apply to functions in Python? Explain the difference between local\n",
    "   scope and global scope.\n",
    "    \n",
    "    In Python, scope refers to the region of the program where a variable is defined and can\n",
    "    be accessed. There are two types of scope in Python: local scope and global scope.\n",
    "\n",
    "    Local scope refers to variables that are defined inside a function. These variables can only\n",
    "    be accessed from within the function.\n",
    "    For example:\n",
    "    \n",
    "def my_function():\n",
    "    x = 5\n",
    "    print(x)\n",
    "\n",
    "my_function()\n",
    "\n",
    "    Global scope refers to variables that are defined outside of any function. These variables \n",
    "    can be accessed from anywhere in the program. \n",
    "    For example:\n",
    "\n",
    "x = 5\n",
    "\n",
    "def my_function():\n",
    "    print(x)\n",
    "\n",
    "my_function()\n"
   ]
  },
  {
   "cell_type": "code",
   "execution_count": 15,
   "id": "dca5de8a",
   "metadata": {},
   "outputs": [
    {
     "name": "stdout",
     "output_type": "stream",
     "text": [
      "('John', 30)\n",
      "John\n",
      "30\n"
     ]
    }
   ],
   "source": [
    "# Question 6\n",
    "6.How can you use the \"return\" statement in a Python function to return multiple values?\n",
    "\n",
    "    In Python, you can use the return statement in a function to return multiple values by \n",
    "    separating them with commas. \n",
    "    Here’s an example:\n",
    "    \n",
    "def get_name_and_age():\n",
    "    name = \"John\"\n",
    "    age = 30\n",
    "    return name, age\n",
    "\n",
    "result = get_name_and_age()\n",
    "print(result)\n",
    "\n",
    "\n",
    "   We can also unpack the returned values into separate variables like this:\n",
    "\n",
    "def get_name_and_age():\n",
    "    name = \"John\"\n",
    "    age = 30\n",
    "    return name, age\n",
    "\n",
    "name, age = get_name_and_age()\n",
    "print(name)\n",
    "print(age)\n"
   ]
  },
  {
   "cell_type": "code",
   "execution_count": 17,
   "id": "4850d31f",
   "metadata": {},
   "outputs": [
    {
     "name": "stdout",
     "output_type": "stream",
     "text": [
      "[1, 2, 3, 4, 5]\n",
      "6\n",
      "5\n"
     ]
    }
   ],
   "source": [
    "# Question 7.\n",
    "7. What is the difference between the \"pass by value\" and \"pass by reference\" concepts when it\n",
    "   comes to function arguments in Python?\n",
    "    \n",
    "    In Python, function arguments are passed by reference. This means that when you pass an\n",
    "    argument to a function, you are actually passing a reference to the object in memory.\n",
    "    This can lead to unexpected behavior if you’re not careful.\n",
    "\n",
    "    Here’s an example:\n",
    "    \n",
    "def my_function(my_list):\n",
    "    my_list.append(5)\n",
    "\n",
    "my_list = [1, 2, 3, 4]\n",
    "my_function(my_list)\n",
    "print(my_list)\n",
    "\n",
    "\n",
    "    In Python, immutable objects (such as integers and strings) are passed by value. \n",
    "    This means that when you pass an immutable object to a function, you are actually passing\n",
    "    a copy of the object’s value.\n",
    "    \n",
    "    Here’s an example:\n",
    "    \n",
    "def my_function(x):\n",
    "    x = x + 1\n",
    "    print(x)\n",
    "\n",
    "y = 5\n",
    "my_function(y)\n",
    "print(y)\n",
    "\n"
   ]
  },
  {
   "cell_type": "code",
   "execution_count": 18,
   "id": "fcdc8adf",
   "metadata": {},
   "outputs": [
    {
     "name": "stdout",
     "output_type": "stream",
     "text": [
      "logarithmic function (log x): 1.3862943611198906\n",
      "exponential function (exp(x)): 54.598150033144236\n",
      "power function with base 2 (2x): 16\n",
      "square root: 2.0\n"
     ]
    }
   ],
   "source": [
    "# Question 8\n",
    "8.Create a function that can intake integer or decimal value and do following operations:\n",
    "    a. Logarithmic function (log x)\n",
    "    b. Exponential function (exp(x))\n",
    "    c. Power function with base 2 (2x)\n",
    "    d. Square root\n",
    "    \n",
    "    \n",
    "    Sure! Here’s an example of a function that can intake integer or decimal value and perform\n",
    "    the operations you specified:\n",
    "    \n",
    "import math\n",
    "\n",
    "def my_function(x):\n",
    "    print(f\"logarithmic function (log x): {math.log(x)}\")\n",
    "    print(f\"exponential function (exp(x)): {math.exp(x)}\")\n",
    "    print(f\"power function with base 2 (2x): {2**x}\")\n",
    "    print(f\"square root: {math.sqrt(x)}\")\n",
    "\n",
    "my_function(4)\n",
    "    "
   ]
  },
  {
   "cell_type": "code",
   "execution_count": 19,
   "id": "dbd67cb2",
   "metadata": {},
   "outputs": [
    {
     "name": "stdout",
     "output_type": "stream",
     "text": [
      "('John', 'Smith')\n"
     ]
    }
   ],
   "source": [
    "# Question 9\n",
    "9. Create a function that takes a full name as an argument and returns first name and last name.\n",
    "\n",
    "    Here’s an example of a function that takes a full name as an argument and returns \n",
    "    the first name and last name:\n",
    "\n",
    "def get_first_and_last_name(full_name):\n",
    "    names = full_name.split()\n",
    "    first_name = names[0]\n",
    "    last_name = names[-1]\n",
    "    return first_name, last_name\n",
    "\n",
    "result = get_first_and_last_name(\"John Smith\")\n",
    "print(result)\n"
   ]
  },
  {
   "cell_type": "code",
   "execution_count": null,
   "id": "3df2d549",
   "metadata": {},
   "outputs": [],
   "source": []
  }
 ],
 "metadata": {
  "kernelspec": {
   "display_name": "Python 3 (ipykernel)",
   "language": "python",
   "name": "python3"
  },
  "language_info": {
   "codemirror_mode": {
    "name": "ipython",
    "version": 3
   },
   "file_extension": ".py",
   "mimetype": "text/x-python",
   "name": "python",
   "nbconvert_exporter": "python",
   "pygments_lexer": "ipython3",
   "version": "3.10.9"
  }
 },
 "nbformat": 4,
 "nbformat_minor": 5
}
